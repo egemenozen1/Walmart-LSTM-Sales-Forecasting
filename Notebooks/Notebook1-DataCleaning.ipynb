{
 "cells": [
  {
   "cell_type": "code",
   "id": "initial_id",
   "metadata": {
    "collapsed": true,
    "ExecuteTime": {
     "end_time": "2024-10-29T18:09:22.639766Z",
     "start_time": "2024-10-29T18:09:08.930476Z"
    }
   },
   "source": [
    "# Data processing\n",
    "import pandas as pd\n",
    "import numpy as np\n",
    "\n",
    "# Visualization\n",
    "import matplotlib.pyplot as plt\n",
    "import seaborn as sns\n",
    "\n",
    "# LSTM model for time series forecasting\n",
    "from tensorflow.keras.models import Sequential\n",
    "from tensorflow.keras.layers import LSTM, Dense, Dropout\n",
    "\n",
    "# Data scaling\n",
    "from sklearn.preprocessing import MinMaxScaler"
   ],
   "outputs": [],
   "execution_count": 1
  },
  {
   "metadata": {
    "ExecuteTime": {
     "end_time": "2024-10-29T18:09:26.756660Z",
     "start_time": "2024-10-29T18:09:26.516332Z"
    }
   },
   "cell_type": "code",
   "source": [
    "# Load each dataset with the correct file paths\n",
    "train_df = pd.read_csv(\"C:/Users/egeme/OneDrive/Masaüstü/NeWProjectS/Walmart-LSTMmodel/Data/train.csv\")\n",
    "test_df = pd.read_csv(\"C:/Users/egeme/OneDrive/Masaüstü/NeWProjectS/Walmart-LSTMmodel/Data/test.csv\")\n",
    "features_df = pd.read_csv(\"C:/Users/egeme/OneDrive/Masaüstü/NeWProjectS/Walmart-LSTMmodel/Data/features.csv\")\n",
    "stores_df = pd.read_csv(\"C:/Users/egeme/OneDrive/Masaüstü/NeWProjectS/Walmart-LSTMmodel/Data/stores.csv\")"
   ],
   "id": "20b4350c9e3a7aa4",
   "outputs": [],
   "execution_count": 2
  },
  {
   "metadata": {
    "ExecuteTime": {
     "end_time": "2024-10-29T18:09:29.238576Z",
     "start_time": "2024-10-29T18:09:29.174589Z"
    }
   },
   "cell_type": "code",
   "source": [
    "# Display the first few rows of each dataset to understand their structure\n",
    "print(\"Train Data\")\n",
    "print(train_df.head())\n",
    "print(train_df.info())\n",
    "\n",
    "print(\"\\nTest Data\")\n",
    "print(test_df.head())\n",
    "print(test_df.info())\n",
    "\n",
    "print(\"\\nFeatures Data\")\n",
    "print(features_df.head())\n",
    "print(features_df.info())\n",
    "\n",
    "print(\"\\nStores Data\")\n",
    "print(stores_df.head())\n",
    "print(stores_df.info())"
   ],
   "id": "aac102678c72c582",
   "outputs": [
    {
     "name": "stdout",
     "output_type": "stream",
     "text": [
      "Train Data\n",
      "   Store  Dept        Date  Weekly_Sales  IsHoliday\n",
      "0      1     1  2010-02-05      24924.50      False\n",
      "1      1     1  2010-02-12      46039.49       True\n",
      "2      1     1  2010-02-19      41595.55      False\n",
      "3      1     1  2010-02-26      19403.54      False\n",
      "4      1     1  2010-03-05      21827.90      False\n",
      "<class 'pandas.core.frame.DataFrame'>\n",
      "RangeIndex: 421570 entries, 0 to 421569\n",
      "Data columns (total 5 columns):\n",
      " #   Column        Non-Null Count   Dtype  \n",
      "---  ------        --------------   -----  \n",
      " 0   Store         421570 non-null  int64  \n",
      " 1   Dept          421570 non-null  int64  \n",
      " 2   Date          421570 non-null  object \n",
      " 3   Weekly_Sales  421570 non-null  float64\n",
      " 4   IsHoliday     421570 non-null  bool   \n",
      "dtypes: bool(1), float64(1), int64(2), object(1)\n",
      "memory usage: 13.3+ MB\n",
      "None\n",
      "\n",
      "Test Data\n",
      "   Store  Dept        Date  IsHoliday\n",
      "0      1     1  2012-11-02      False\n",
      "1      1     1  2012-11-09      False\n",
      "2      1     1  2012-11-16      False\n",
      "3      1     1  2012-11-23       True\n",
      "4      1     1  2012-11-30      False\n",
      "<class 'pandas.core.frame.DataFrame'>\n",
      "RangeIndex: 115064 entries, 0 to 115063\n",
      "Data columns (total 4 columns):\n",
      " #   Column     Non-Null Count   Dtype \n",
      "---  ------     --------------   ----- \n",
      " 0   Store      115064 non-null  int64 \n",
      " 1   Dept       115064 non-null  int64 \n",
      " 2   Date       115064 non-null  object\n",
      " 3   IsHoliday  115064 non-null  bool  \n",
      "dtypes: bool(1), int64(2), object(1)\n",
      "memory usage: 2.7+ MB\n",
      "None\n",
      "\n",
      "Features Data\n",
      "   Store        Date  Temperature  Fuel_Price  MarkDown1  MarkDown2  \\\n",
      "0      1  2010-02-05        42.31       2.572        NaN        NaN   \n",
      "1      1  2010-02-12        38.51       2.548        NaN        NaN   \n",
      "2      1  2010-02-19        39.93       2.514        NaN        NaN   \n",
      "3      1  2010-02-26        46.63       2.561        NaN        NaN   \n",
      "4      1  2010-03-05        46.50       2.625        NaN        NaN   \n",
      "\n",
      "   MarkDown3  MarkDown4  MarkDown5         CPI  Unemployment  IsHoliday  \n",
      "0        NaN        NaN        NaN  211.096358         8.106      False  \n",
      "1        NaN        NaN        NaN  211.242170         8.106       True  \n",
      "2        NaN        NaN        NaN  211.289143         8.106      False  \n",
      "3        NaN        NaN        NaN  211.319643         8.106      False  \n",
      "4        NaN        NaN        NaN  211.350143         8.106      False  \n",
      "<class 'pandas.core.frame.DataFrame'>\n",
      "RangeIndex: 8190 entries, 0 to 8189\n",
      "Data columns (total 12 columns):\n",
      " #   Column        Non-Null Count  Dtype  \n",
      "---  ------        --------------  -----  \n",
      " 0   Store         8190 non-null   int64  \n",
      " 1   Date          8190 non-null   object \n",
      " 2   Temperature   8190 non-null   float64\n",
      " 3   Fuel_Price    8190 non-null   float64\n",
      " 4   MarkDown1     4032 non-null   float64\n",
      " 5   MarkDown2     2921 non-null   float64\n",
      " 6   MarkDown3     3613 non-null   float64\n",
      " 7   MarkDown4     3464 non-null   float64\n",
      " 8   MarkDown5     4050 non-null   float64\n",
      " 9   CPI           7605 non-null   float64\n",
      " 10  Unemployment  7605 non-null   float64\n",
      " 11  IsHoliday     8190 non-null   bool   \n",
      "dtypes: bool(1), float64(9), int64(1), object(1)\n",
      "memory usage: 712.0+ KB\n",
      "None\n",
      "\n",
      "Stores Data\n",
      "   Store Type    Size\n",
      "0      1    A  151315\n",
      "1      2    A  202307\n",
      "2      3    B   37392\n",
      "3      4    A  205863\n",
      "4      5    B   34875\n",
      "<class 'pandas.core.frame.DataFrame'>\n",
      "RangeIndex: 45 entries, 0 to 44\n",
      "Data columns (total 3 columns):\n",
      " #   Column  Non-Null Count  Dtype \n",
      "---  ------  --------------  ----- \n",
      " 0   Store   45 non-null     int64 \n",
      " 1   Type    45 non-null     object\n",
      " 2   Size    45 non-null     int64 \n",
      "dtypes: int64(2), object(1)\n",
      "memory usage: 1.2+ KB\n",
      "None\n"
     ]
    }
   ],
   "execution_count": 3
  },
  {
   "metadata": {
    "ExecuteTime": {
     "end_time": "2024-10-29T18:09:32.143968Z",
     "start_time": "2024-10-29T18:09:32.131592Z"
    }
   },
   "cell_type": "code",
   "source": "print('sikerim')",
   "id": "a28093d5d32bafb9",
   "outputs": [
    {
     "name": "stdout",
     "output_type": "stream",
     "text": [
      "sikerim\n"
     ]
    }
   ],
   "execution_count": 4
  },
  {
   "metadata": {},
   "cell_type": "code",
   "outputs": [],
   "execution_count": null,
   "source": "",
   "id": "b098a07c5a719051"
  }
 ],
 "metadata": {
  "kernelspec": {
   "display_name": "Python 3",
   "language": "python",
   "name": "python3"
  },
  "language_info": {
   "codemirror_mode": {
    "name": "ipython",
    "version": 2
   },
   "file_extension": ".py",
   "mimetype": "text/x-python",
   "name": "python",
   "nbconvert_exporter": "python",
   "pygments_lexer": "ipython2",
   "version": "2.7.6"
  }
 },
 "nbformat": 4,
 "nbformat_minor": 5
}
