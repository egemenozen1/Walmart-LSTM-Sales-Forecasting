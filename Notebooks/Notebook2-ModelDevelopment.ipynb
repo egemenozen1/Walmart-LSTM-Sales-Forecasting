{
 "cells": [
  {
   "cell_type": "code",
   "id": "initial_id",
   "metadata": {
    "collapsed": true,
    "ExecuteTime": {
     "end_time": "2024-11-01T15:19:24.399353Z",
     "start_time": "2024-11-01T15:19:24.396182Z"
    }
   },
   "source": [
    "import pandas as pd\n",
    "import numpy as np\n",
    "from sklearn.model_selection import train_test_split\n",
    "from sklearn.preprocessing import StandardScaler\n",
    "from sklearn.metrics import mean_squared_error, mean_absolute_error, r2_score\n",
    "from tensorflow.keras.models import Sequential\n",
    "from tensorflow.keras.layers import LSTM, Dense, Dropout\n"
   ],
   "outputs": [],
   "execution_count": 2
  },
  {
   "metadata": {
    "ExecuteTime": {
     "end_time": "2024-11-01T15:19:24.825890Z",
     "start_time": "2024-11-01T15:19:24.418379Z"
    }
   },
   "cell_type": "code",
   "source": [
    "# Load the dataset\n",
    "data = pd.read_csv(\"C:/Users/egeme/OneDrive/Masaüstü/NeWProjectS/Walmart-LSTMmodel/Data/optimized_dataset.csv\")\n",
    "data.head()\n"
   ],
   "id": "c9db5960eafcc583",
   "outputs": [
    {
     "data": {
      "text/plain": [
       "   Weekly_Sales_Log_Standardized  CPI_Log_Standardized  Store_Standardized  \\\n",
       "0                       0.877474              1.020494           -1.950537   \n",
       "1                       1.362127              1.023284           -1.950537   \n",
       "2                       1.278926              1.024182           -1.950537   \n",
       "3                       0.692145              1.024765           -1.950537   \n",
       "4                       0.778401              1.025348           -1.950537   \n",
       "\n",
       "   Dept_Standardized  Temperature_Standardized  Fuel_Price_Standardized  \\\n",
       "0          -1.913804                 -1.000331                -1.653971   \n",
       "1          -1.913804                 -1.192331                -1.653971   \n",
       "2          -1.913804                 -1.121142                -1.653971   \n",
       "3          -1.913804                 -0.776476                -1.653971   \n",
       "4          -1.913804                 -0.783295                -1.576265   \n",
       "\n",
       "   MarkDown1_Standardized  MarkDown4_Standardized  \n",
       "0               -0.740193               -0.679922  \n",
       "1               -0.740193               -0.679922  \n",
       "2               -0.740193               -0.679922  \n",
       "3               -0.740193               -0.679922  \n",
       "4               -0.740193               -0.679922  "
      ],
      "text/html": [
       "<div>\n",
       "<style scoped>\n",
       "    .dataframe tbody tr th:only-of-type {\n",
       "        vertical-align: middle;\n",
       "    }\n",
       "\n",
       "    .dataframe tbody tr th {\n",
       "        vertical-align: top;\n",
       "    }\n",
       "\n",
       "    .dataframe thead th {\n",
       "        text-align: right;\n",
       "    }\n",
       "</style>\n",
       "<table border=\"1\" class=\"dataframe\">\n",
       "  <thead>\n",
       "    <tr style=\"text-align: right;\">\n",
       "      <th></th>\n",
       "      <th>Weekly_Sales_Log_Standardized</th>\n",
       "      <th>CPI_Log_Standardized</th>\n",
       "      <th>Store_Standardized</th>\n",
       "      <th>Dept_Standardized</th>\n",
       "      <th>Temperature_Standardized</th>\n",
       "      <th>Fuel_Price_Standardized</th>\n",
       "      <th>MarkDown1_Standardized</th>\n",
       "      <th>MarkDown4_Standardized</th>\n",
       "    </tr>\n",
       "  </thead>\n",
       "  <tbody>\n",
       "    <tr>\n",
       "      <th>0</th>\n",
       "      <td>0.877474</td>\n",
       "      <td>1.020494</td>\n",
       "      <td>-1.950537</td>\n",
       "      <td>-1.913804</td>\n",
       "      <td>-1.000331</td>\n",
       "      <td>-1.653971</td>\n",
       "      <td>-0.740193</td>\n",
       "      <td>-0.679922</td>\n",
       "    </tr>\n",
       "    <tr>\n",
       "      <th>1</th>\n",
       "      <td>1.362127</td>\n",
       "      <td>1.023284</td>\n",
       "      <td>-1.950537</td>\n",
       "      <td>-1.913804</td>\n",
       "      <td>-1.192331</td>\n",
       "      <td>-1.653971</td>\n",
       "      <td>-0.740193</td>\n",
       "      <td>-0.679922</td>\n",
       "    </tr>\n",
       "    <tr>\n",
       "      <th>2</th>\n",
       "      <td>1.278926</td>\n",
       "      <td>1.024182</td>\n",
       "      <td>-1.950537</td>\n",
       "      <td>-1.913804</td>\n",
       "      <td>-1.121142</td>\n",
       "      <td>-1.653971</td>\n",
       "      <td>-0.740193</td>\n",
       "      <td>-0.679922</td>\n",
       "    </tr>\n",
       "    <tr>\n",
       "      <th>3</th>\n",
       "      <td>0.692145</td>\n",
       "      <td>1.024765</td>\n",
       "      <td>-1.950537</td>\n",
       "      <td>-1.913804</td>\n",
       "      <td>-0.776476</td>\n",
       "      <td>-1.653971</td>\n",
       "      <td>-0.740193</td>\n",
       "      <td>-0.679922</td>\n",
       "    </tr>\n",
       "    <tr>\n",
       "      <th>4</th>\n",
       "      <td>0.778401</td>\n",
       "      <td>1.025348</td>\n",
       "      <td>-1.950537</td>\n",
       "      <td>-1.913804</td>\n",
       "      <td>-0.783295</td>\n",
       "      <td>-1.576265</td>\n",
       "      <td>-0.740193</td>\n",
       "      <td>-0.679922</td>\n",
       "    </tr>\n",
       "  </tbody>\n",
       "</table>\n",
       "</div>"
      ]
     },
     "execution_count": 3,
     "metadata": {},
     "output_type": "execute_result"
    }
   ],
   "execution_count": 3
  },
  {
   "metadata": {
    "ExecuteTime": {
     "end_time": "2024-11-01T15:19:25.032496Z",
     "start_time": "2024-11-01T15:19:25.020863Z"
    }
   },
   "cell_type": "code",
   "source": [
    "# Assuming 'Weekly_Sales' as the target variable\n",
    "X = data.drop('Weekly_Sales_Log_Standardized', axis=1)  # Özellikler\n",
    "y = data['Weekly_Sales_Log_Standardized']  # Hedef değişken\n"
   ],
   "id": "d9f15e9848f8aef0",
   "outputs": [],
   "execution_count": 4
  },
  {
   "metadata": {
    "ExecuteTime": {
     "end_time": "2024-11-01T15:19:25.113543Z",
     "start_time": "2024-11-01T15:19:25.068509Z"
    }
   },
   "cell_type": "code",
   "source": "X_train, X_test, y_train, y_test = train_test_split(X, y, test_size=0.2, random_state=42)\n",
   "id": "65dc53c620bf41a3",
   "outputs": [],
   "execution_count": 5
  },
  {
   "metadata": {
    "ExecuteTime": {
     "end_time": "2024-11-01T15:33:17.166687Z",
     "start_time": "2024-11-01T15:19:25.151074Z"
    }
   },
   "cell_type": "code",
   "source": [
    "model = Sequential()\n",
    "model.add(LSTM(units=50, return_sequences=True, input_shape=(X_train.shape[1], 1)))\n",
    "model.add(Dropout(0.2))\n",
    "model.add(LSTM(units=50, return_sequences=False))\n",
    "model.add(Dropout(0.2))\n",
    "model.add(Dense(units=1))\n",
    "\n",
    "# Modeli derleyin\n",
    "model.compile(optimizer='adam', loss='mean_squared_error')\n",
    "\n",
    "# Modeli eğitin\n",
    "model.fit(X_train, y_train, epochs=20, batch_size=32, validation_data=(X_test, y_test))\n"
   ],
   "id": "c82674d380cddbc2",
   "outputs": [
    {
     "name": "stdout",
     "output_type": "stream",
     "text": [
      "Epoch 1/20\n"
     ]
    },
    {
     "name": "stderr",
     "output_type": "stream",
     "text": [
      "C:\\Users\\egeme\\AppData\\Local\\Programs\\Python\\Python312\\Lib\\site-packages\\keras\\src\\layers\\rnn\\rnn.py:204: UserWarning: Do not pass an `input_shape`/`input_dim` argument to a layer. When using Sequential models, prefer using an `Input(shape)` object as the first layer in the model instead.\n",
      "  super().__init__(**kwargs)\n"
     ]
    },
    {
     "name": "stdout",
     "output_type": "stream",
     "text": [
      "\u001B[1m10540/10540\u001B[0m \u001B[32m━━━━━━━━━━━━━━━━━━━━\u001B[0m\u001B[37m\u001B[0m \u001B[1m42s\u001B[0m 4ms/step - loss: 0.9010 - val_loss: 0.7324\n",
      "Epoch 2/20\n",
      "\u001B[1m10540/10540\u001B[0m \u001B[32m━━━━━━━━━━━━━━━━━━━━\u001B[0m\u001B[37m\u001B[0m \u001B[1m40s\u001B[0m 4ms/step - loss: 0.7347 - val_loss: 0.6596\n",
      "Epoch 3/20\n",
      "\u001B[1m10540/10540\u001B[0m \u001B[32m━━━━━━━━━━━━━━━━━━━━\u001B[0m\u001B[37m\u001B[0m \u001B[1m41s\u001B[0m 4ms/step - loss: 0.6734 - val_loss: 0.6093\n",
      "Epoch 4/20\n",
      "\u001B[1m10540/10540\u001B[0m \u001B[32m━━━━━━━━━━━━━━━━━━━━\u001B[0m\u001B[37m\u001B[0m \u001B[1m42s\u001B[0m 4ms/step - loss: 0.6200 - val_loss: 0.5292\n",
      "Epoch 5/20\n",
      "\u001B[1m10540/10540\u001B[0m \u001B[32m━━━━━━━━━━━━━━━━━━━━\u001B[0m\u001B[37m\u001B[0m \u001B[1m42s\u001B[0m 4ms/step - loss: 0.5686 - val_loss: 0.4823\n",
      "Epoch 6/20\n",
      "\u001B[1m10540/10540\u001B[0m \u001B[32m━━━━━━━━━━━━━━━━━━━━\u001B[0m\u001B[37m\u001B[0m \u001B[1m41s\u001B[0m 4ms/step - loss: 0.5269 - val_loss: 0.4438\n",
      "Epoch 7/20\n",
      "\u001B[1m10540/10540\u001B[0m \u001B[32m━━━━━━━━━━━━━━━━━━━━\u001B[0m\u001B[37m\u001B[0m \u001B[1m41s\u001B[0m 4ms/step - loss: 0.4958 - val_loss: 0.4573\n",
      "Epoch 8/20\n",
      "\u001B[1m10540/10540\u001B[0m \u001B[32m━━━━━━━━━━━━━━━━━━━━\u001B[0m\u001B[37m\u001B[0m \u001B[1m41s\u001B[0m 4ms/step - loss: 0.4712 - val_loss: 0.4084\n",
      "Epoch 9/20\n",
      "\u001B[1m10540/10540\u001B[0m \u001B[32m━━━━━━━━━━━━━━━━━━━━\u001B[0m\u001B[37m\u001B[0m \u001B[1m43s\u001B[0m 4ms/step - loss: 0.4488 - val_loss: 0.3968\n",
      "Epoch 10/20\n",
      "\u001B[1m10540/10540\u001B[0m \u001B[32m━━━━━━━━━━━━━━━━━━━━\u001B[0m\u001B[37m\u001B[0m \u001B[1m43s\u001B[0m 4ms/step - loss: 0.4313 - val_loss: 0.3727\n",
      "Epoch 11/20\n",
      "\u001B[1m10540/10540\u001B[0m \u001B[32m━━━━━━━━━━━━━━━━━━━━\u001B[0m\u001B[37m\u001B[0m \u001B[1m42s\u001B[0m 4ms/step - loss: 0.4150 - val_loss: 0.3644\n",
      "Epoch 12/20\n",
      "\u001B[1m10540/10540\u001B[0m \u001B[32m━━━━━━━━━━━━━━━━━━━━\u001B[0m\u001B[37m\u001B[0m \u001B[1m44s\u001B[0m 4ms/step - loss: 0.4030 - val_loss: 0.3414\n",
      "Epoch 13/20\n",
      "\u001B[1m10540/10540\u001B[0m \u001B[32m━━━━━━━━━━━━━━━━━━━━\u001B[0m\u001B[37m\u001B[0m \u001B[1m43s\u001B[0m 4ms/step - loss: 0.3930 - val_loss: 0.3534\n",
      "Epoch 14/20\n",
      "\u001B[1m10540/10540\u001B[0m \u001B[32m━━━━━━━━━━━━━━━━━━━━\u001B[0m\u001B[37m\u001B[0m \u001B[1m41s\u001B[0m 4ms/step - loss: 0.3827 - val_loss: 0.3324\n",
      "Epoch 15/20\n",
      "\u001B[1m10540/10540\u001B[0m \u001B[32m━━━━━━━━━━━━━━━━━━━━\u001B[0m\u001B[37m\u001B[0m \u001B[1m42s\u001B[0m 4ms/step - loss: 0.3773 - val_loss: 0.3410\n",
      "Epoch 16/20\n",
      "\u001B[1m10540/10540\u001B[0m \u001B[32m━━━━━━━━━━━━━━━━━━━━\u001B[0m\u001B[37m\u001B[0m \u001B[1m41s\u001B[0m 4ms/step - loss: 0.3717 - val_loss: 0.3118\n",
      "Epoch 17/20\n",
      "\u001B[1m10540/10540\u001B[0m \u001B[32m━━━━━━━━━━━━━━━━━━━━\u001B[0m\u001B[37m\u001B[0m \u001B[1m41s\u001B[0m 4ms/step - loss: 0.3596 - val_loss: 0.2973\n",
      "Epoch 18/20\n",
      "\u001B[1m10540/10540\u001B[0m \u001B[32m━━━━━━━━━━━━━━━━━━━━\u001B[0m\u001B[37m\u001B[0m \u001B[1m41s\u001B[0m 4ms/step - loss: 0.3469 - val_loss: 0.3317\n",
      "Epoch 19/20\n",
      "\u001B[1m10540/10540\u001B[0m \u001B[32m━━━━━━━━━━━━━━━━━━━━\u001B[0m\u001B[37m\u001B[0m \u001B[1m41s\u001B[0m 4ms/step - loss: 0.3357 - val_loss: 0.2664\n",
      "Epoch 20/20\n",
      "\u001B[1m10540/10540\u001B[0m \u001B[32m━━━━━━━━━━━━━━━━━━━━\u001B[0m\u001B[37m\u001B[0m \u001B[1m41s\u001B[0m 4ms/step - loss: 0.3289 - val_loss: 0.3091\n"
     ]
    },
    {
     "data": {
      "text/plain": [
       "<keras.src.callbacks.history.History at 0x111ea37e720>"
      ]
     },
     "execution_count": 6,
     "metadata": {},
     "output_type": "execute_result"
    }
   ],
   "execution_count": 6
  },
  {
   "metadata": {
    "ExecuteTime": {
     "end_time": "2024-11-01T15:33:22.533371Z",
     "start_time": "2024-11-01T15:33:17.281713Z"
    }
   },
   "cell_type": "code",
   "source": [
    "# Test verisiyle tahmin yapın\n",
    "y_pred = model.predict(X_test)\n",
    "\n",
    "# Performans metrikleri\n",
    "print(\"Mean Absolute Error:\", mean_absolute_error(y_test, y_pred))\n",
    "print(\"Mean Squared Error:\", mean_squared_error(y_test, y_pred))\n",
    "print(\"R-squared:\", r2_score(y_test, y_pred))\n"
   ],
   "id": "9d1706fd2678c56d",
   "outputs": [
    {
     "name": "stdout",
     "output_type": "stream",
     "text": [
      "\u001B[1m2635/2635\u001B[0m \u001B[32m━━━━━━━━━━━━━━━━━━━━\u001B[0m\u001B[37m\u001B[0m \u001B[1m3s\u001B[0m 1ms/step\n",
      "Mean Absolute Error: 0.3965346102219631\n",
      "Mean Squared Error: 0.3090677715719639\n",
      "R-squared: 0.6902611097705207\n"
     ]
    }
   ],
   "execution_count": 7
  },
  {
   "metadata": {},
   "cell_type": "markdown",
   "source": [
    "# Model Development for Weekly Sales Forecasting\n",
    "\n",
    "## Step 1: Import Libraries\n",
    "In this step, we import all necessary libraries for data manipulation, model building, and evaluation.\n",
    "\n",
    "## Step 2: Load and Inspect the Dataset\n",
    "We load the optimized dataset that has been preprocessed in previous steps.\n",
    "\n",
    "## Step 3: Feature and Target Separation\n",
    "Separate the target variable (Weekly Sales) from the input features.\n",
    "\n",
    "## Step 4: Train-Test Split\n",
    "Split the data into training and testing sets to evaluate model performance later.\n",
    "\n",
    "## Step 5: Model Building and Training\n",
    "Build an LSTM model for time series forecasting and train it with the training data.\n",
    "\n",
    "## Step 6: Model Evaluation\n",
    "Evaluate the model’s performance on the test set using metrics like MAE, MSE, and R-squared.\n"
   ],
   "id": "fe06c579fb96100f"
  },
  {
   "metadata": {
    "ExecuteTime": {
     "end_time": "2024-11-01T15:33:22.628517Z",
     "start_time": "2024-11-01T15:33:22.576062Z"
    }
   },
   "cell_type": "code",
   "source": [
    "original_data = pd.read_csv(\"C:/Users/egeme/OneDrive/Masaüstü/NeWProjectS/Walmart-LSTMmodel/Data/test.csv\", parse_dates=[\"Date\"])\n",
    "data = data.merge(original_data[['Date']], left_index=True, right_index=True)\n"
   ],
   "id": "912278411a2a2372",
   "outputs": [],
   "execution_count": 8
  },
  {
   "metadata": {
    "ExecuteTime": {
     "end_time": "2024-11-01T15:33:22.643394Z",
     "start_time": "2024-11-01T15:33:22.632540Z"
    }
   },
   "cell_type": "code",
   "source": [
    "data['Date'] = pd.to_datetime(data['Date'])\n",
    "\n"
   ],
   "id": "2de460794ecf29af",
   "outputs": [],
   "execution_count": 9
  },
  {
   "metadata": {
    "ExecuteTime": {
     "end_time": "2024-11-01T15:33:22.677412Z",
     "start_time": "2024-11-01T15:33:22.660883Z"
    }
   },
   "cell_type": "code",
   "source": [
    "data['Month'] = data['Date'].dt.month\n",
    "data['WeekOfYear'] = data['Date'].dt.isocalendar().week\n",
    "data['DayOfWeek'] = data['Date'].dt.dayofweek\n",
    "\n"
   ],
   "id": "1091c89c77992dca",
   "outputs": [],
   "execution_count": 10
  },
  {
   "metadata": {
    "ExecuteTime": {
     "end_time": "2024-11-01T16:27:44.745400Z",
     "start_time": "2024-11-01T16:20:33.897277Z"
    }
   },
   "cell_type": "code",
   "source": [
    "from scikeras.wrappers import KerasRegressor\n",
    "from sklearn.model_selection import RandomizedSearchCV\n",
    "from sklearn.ensemble import RandomForestRegressor\n",
    "from sklearn.metrics import mean_absolute_error, mean_squared_error, r2_score\n",
    "from tensorflow.keras.models import Sequential\n",
    "from tensorflow.keras.layers import LSTM, Dropout, Dense\n",
    "from tensorflow.keras.callbacks import EarlyStopping\n",
    "\n",
    "# LSTM modeli oluşturma fonksiyonu, parametrelerle daha geniş bir model yapılandırması sağlanıyor\n",
    "def create_model(units=32, dropout_rate=0.1, optimizer='adam'):\n",
    "    model = Sequential()\n",
    "    model.add(LSTM(units=units, return_sequences=True, input_shape=(X_train.shape[1], 1)))\n",
    "    model.add(Dropout(dropout_rate))\n",
    "    model.add(LSTM(units=units, return_sequences=False))\n",
    "    model.add(Dropout(dropout_rate))\n",
    "    model.add(Dense(units=1))\n",
    "    model.compile(optimizer=optimizer, loss='mean_squared_error')\n",
    "    return model\n",
    "\n",
    "# KerasRegressor ile LSTM modelini sarmalıyoruz ve EarlyStopping ile eğitim sürecini durdurma koşulu ekliyoruz\n",
    "model = KerasRegressor(model=create_model, epochs=5, batch_size=32, verbose=0,\n",
    "                       callbacks=[EarlyStopping(monitor='loss', patience=2)])\n",
    "\n",
    "# Hiperparametre aralığını daha daraltılmış şekilde tanımlıyoruz\n",
    "param_grid = {\n",
    "    'model__units': [16, 32],\n",
    "    'model__dropout_rate': [0.1],\n",
    "    'model__optimizer': ['adam'],\n",
    "    'batch_size': [32]\n",
    "}\n",
    "\n",
    "# Hızlı arama için RandomizedSearchCV kullanarak LSTM modelinde en iyi parametreleri buluyoruz\n",
    "grid = RandomizedSearchCV(estimator=model, param_distributions=param_grid, cv=3, n_iter=2, verbose=1, n_jobs=-1)\n",
    "grid_result = grid.fit(X_train, y_train)\n",
    "\n",
    "# En iyi parametreleri yazdır\n",
    "print(\"En İyi LSTM Parametreleri: \", grid_result.best_params_)\n",
    "\n",
    "# En iyi LSTM modelini kullanarak tahmin yapıyoruz\n",
    "y_pred_lstm = grid_result.best_estimator_.predict(X_test)\n",
    "\n",
    "# LSTM Model Performans Metriği\n",
    "print(\"LSTM Model Performansı\")\n",
    "print(\"Ortalama Mutlak Hata (MAE):\", mean_absolute_error(y_test, y_pred_lstm))\n",
    "print(\"Ortalama Kare Hata (MSE):\", mean_squared_error(y_test, y_pred_lstm))\n",
    "print(\"R-Karesi:\", r2_score(y_test, y_pred_lstm))\n",
    "\n",
    "# RandomForest modelini oluştur ve eğit\n",
    "rf_model = RandomForestRegressor(n_estimators=100, max_depth=10, random_state=42)\n",
    "rf_model.fit(X_train, y_train)\n",
    "\n",
    "# RandomForest modeli ile tahmin yap\n",
    "y_pred_rf = rf_model.predict(X_test)\n",
    "\n",
    "# RandomForest Model Performans Metriği\n",
    "print(\"\\nRandom Forest Model Performansı\")\n",
    "print(\"Ortalama Mutlak Hata (MAE):\", mean_absolute_error(y_test, y_pred_rf))\n",
    "print(\"Ortalama Kare Hata (MSE):\", mean_squared_error(y_test, y_pred_rf))\n",
    "print(\"R-Karesi:\", r2_score(y_test, y_pred_rf))\n",
    "\n",
    "# Model tahminlerini görselleştirme\n",
    "import matplotlib.pyplot as plt\n",
    "\n",
    "plt.figure(figsize=(12, 6))\n",
    "plt.plot(y_test, color='blue', label='Gerçek Değerler')\n",
    "plt.plot(y_pred_lstm, color='red', label='LSTM Tahminleri')\n",
    "plt.plot(y_pred_rf, color='green', label='Random Forest Tahminleri')\n",
    "plt.title(\"Gerçek vs Tahmin Satışlar\")\n",
    "plt.legend()\n",
    "plt.show()\n",
    "\n"
   ],
   "id": "9fa147580fef355f",
   "outputs": [
    {
     "name": "stdout",
     "output_type": "stream",
     "text": [
      "Fitting 3 folds for each of 2 candidates, totalling 6 fits\n"
     ]
    },
    {
     "name": "stderr",
     "output_type": "stream",
     "text": [
      "C:\\Users\\egeme\\AppData\\Local\\Programs\\Python\\Python312\\Lib\\site-packages\\keras\\src\\layers\\rnn\\rnn.py:204: UserWarning: Do not pass an `input_shape`/`input_dim` argument to a layer. When using Sequential models, prefer using an `Input(shape)` object as the first layer in the model instead.\n",
      "  super().__init__(**kwargs)\n"
     ]
    },
    {
     "name": "stdout",
     "output_type": "stream",
     "text": [
      "En İyi LSTM Parametreleri:  {'model__units': 32, 'model__optimizer': 'adam', 'model__dropout_rate': 0.1, 'batch_size': 32}\n",
      "LSTM Model Performansı\n",
      "Ortalama Mutlak Hata (MAE): 0.5679653289115646\n",
      "Ortalama Kare Hata (MSE): 0.5336507719528726\n",
      "R-Karesi: 0.4651904433966494\n",
      "\n",
      "Random Forest Model Performansı\n",
      "Ortalama Mutlak Hata (MAE): 0.33766287753190016\n",
      "Ortalama Kare Hata (MSE): 0.21778249065871627\n",
      "R-Karesi: 0.7817446101709242\n"
     ]
    },
    {
     "data": {
      "text/plain": [
       "<Figure size 1200x600 with 1 Axes>"
      ],
      "image/png": "[encoded data removed]"
     },
     "metadata": {},
     "output_type": "display_data"
    }
   ],
   "execution_count": 18
  },
  {
   "metadata": {},
   "cell_type": "code",
   "outputs": [],
   "execution_count": null,
   "source": [
    "import joblib\n",
    "\n",
    "# RandomForest modelini kaydet\n",
    "joblib.dump(rf_model, \"random_forest_model.pkl\")\n",
    "\n",
    "# Optimizasyon yapılmış veri setini kaydet\n",
    "optimized_features.to_csv('final_optimized_dataset.csv', index=False)\n",
    "print(\"Models and dataset saved.\")\n"
   ],
   "id": "dd918bc3610da418"
  }
 ],
 "metadata": {
  "kernelspec": {
   "display_name": "Python 3",
   "language": "python",
   "name": "python3"
  },
  "language_info": {
   "codemirror_mode": {
    "name": "ipython",
    "version": 2
   },
   "file_extension": ".py",
   "mimetype": "text/x-python",
   "name": "python",
   "nbconvert_exporter": "python",
   "pygments_lexer": "ipython2",
   "version": "2.7.6"
  }
 },
 "nbformat": 4,
 "nbformat_minor": 5
}
