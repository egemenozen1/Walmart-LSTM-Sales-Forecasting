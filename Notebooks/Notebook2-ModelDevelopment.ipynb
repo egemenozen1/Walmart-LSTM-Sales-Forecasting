{
 "cells": [
  {
   "cell_type": "code",
   "id": "initial_id",
   "metadata": {
    "collapsed": true,
    "ExecuteTime": {
     "end_time": "2024-10-31T21:44:39.562480Z",
     "start_time": "2024-10-31T21:44:33.494231Z"
    }
   },
   "source": [
    "import pandas as pd\n",
    "import numpy as np\n",
    "from sklearn.model_selection import train_test_split\n",
    "from sklearn.preprocessing import StandardScaler\n",
    "from sklearn.metrics import mean_squared_error, mean_absolute_error, r2_score\n",
    "from tensorflow.keras.models import Sequential\n",
    "from tensorflow.keras.layers import LSTM, Dense, Dropout\n"
   ],
   "outputs": [],
   "execution_count": 1
  },
  {
   "metadata": {
    "ExecuteTime": {
     "end_time": "2024-10-31T21:45:43.077165Z",
     "start_time": "2024-10-31T21:45:42.650229Z"
    }
   },
   "cell_type": "code",
   "source": [
    "# Load the dataset\n",
    "data = pd.read_csv(\"C:/Users/egeme/OneDrive/Masaüstü/NeWProjectS/Walmart-LSTMmodel/Data/optimized_dataset.csv\")\n",
    "data.head()\n"
   ],
   "id": "c9db5960eafcc583",
   "outputs": [
    {
     "data": {
      "text/plain": [
       "   Weekly_Sales_Log_Standardized  CPI_Log_Standardized  Store_Standardized  \\\n",
       "0                       0.877474              1.020494           -1.950537   \n",
       "1                       1.362127              1.023284           -1.950537   \n",
       "2                       1.278926              1.024182           -1.950537   \n",
       "3                       0.692145              1.024765           -1.950537   \n",
       "4                       0.778401              1.025348           -1.950537   \n",
       "\n",
       "   Dept_Standardized  Temperature_Standardized  Fuel_Price_Standardized  \\\n",
       "0          -1.913804                 -1.000331                -1.653971   \n",
       "1          -1.913804                 -1.192331                -1.653971   \n",
       "2          -1.913804                 -1.121142                -1.653971   \n",
       "3          -1.913804                 -0.776476                -1.653971   \n",
       "4          -1.913804                 -0.783295                -1.576265   \n",
       "\n",
       "   MarkDown1_Standardized  MarkDown4_Standardized  \n",
       "0               -0.740193               -0.679922  \n",
       "1               -0.740193               -0.679922  \n",
       "2               -0.740193               -0.679922  \n",
       "3               -0.740193               -0.679922  \n",
       "4               -0.740193               -0.679922  "
      ],
      "text/html": [
       "<div>\n",
       "<style scoped>\n",
       "    .dataframe tbody tr th:only-of-type {\n",
       "        vertical-align: middle;\n",
       "    }\n",
       "\n",
       "    .dataframe tbody tr th {\n",
       "        vertical-align: top;\n",
       "    }\n",
       "\n",
       "    .dataframe thead th {\n",
       "        text-align: right;\n",
       "    }\n",
       "</style>\n",
       "<table border=\"1\" class=\"dataframe\">\n",
       "  <thead>\n",
       "    <tr style=\"text-align: right;\">\n",
       "      <th></th>\n",
       "      <th>Weekly_Sales_Log_Standardized</th>\n",
       "      <th>CPI_Log_Standardized</th>\n",
       "      <th>Store_Standardized</th>\n",
       "      <th>Dept_Standardized</th>\n",
       "      <th>Temperature_Standardized</th>\n",
       "      <th>Fuel_Price_Standardized</th>\n",
       "      <th>MarkDown1_Standardized</th>\n",
       "      <th>MarkDown4_Standardized</th>\n",
       "    </tr>\n",
       "  </thead>\n",
       "  <tbody>\n",
       "    <tr>\n",
       "      <th>0</th>\n",
       "      <td>0.877474</td>\n",
       "      <td>1.020494</td>\n",
       "      <td>-1.950537</td>\n",
       "      <td>-1.913804</td>\n",
       "      <td>-1.000331</td>\n",
       "      <td>-1.653971</td>\n",
       "      <td>-0.740193</td>\n",
       "      <td>-0.679922</td>\n",
       "    </tr>\n",
       "    <tr>\n",
       "      <th>1</th>\n",
       "      <td>1.362127</td>\n",
       "      <td>1.023284</td>\n",
       "      <td>-1.950537</td>\n",
       "      <td>-1.913804</td>\n",
       "      <td>-1.192331</td>\n",
       "      <td>-1.653971</td>\n",
       "      <td>-0.740193</td>\n",
       "      <td>-0.679922</td>\n",
       "    </tr>\n",
       "    <tr>\n",
       "      <th>2</th>\n",
       "      <td>1.278926</td>\n",
       "      <td>1.024182</td>\n",
       "      <td>-1.950537</td>\n",
       "      <td>-1.913804</td>\n",
       "      <td>-1.121142</td>\n",
       "      <td>-1.653971</td>\n",
       "      <td>-0.740193</td>\n",
       "      <td>-0.679922</td>\n",
       "    </tr>\n",
       "    <tr>\n",
       "      <th>3</th>\n",
       "      <td>0.692145</td>\n",
       "      <td>1.024765</td>\n",
       "      <td>-1.950537</td>\n",
       "      <td>-1.913804</td>\n",
       "      <td>-0.776476</td>\n",
       "      <td>-1.653971</td>\n",
       "      <td>-0.740193</td>\n",
       "      <td>-0.679922</td>\n",
       "    </tr>\n",
       "    <tr>\n",
       "      <th>4</th>\n",
       "      <td>0.778401</td>\n",
       "      <td>1.025348</td>\n",
       "      <td>-1.950537</td>\n",
       "      <td>-1.913804</td>\n",
       "      <td>-0.783295</td>\n",
       "      <td>-1.576265</td>\n",
       "      <td>-0.740193</td>\n",
       "      <td>-0.679922</td>\n",
       "    </tr>\n",
       "  </tbody>\n",
       "</table>\n",
       "</div>"
      ]
     },
     "execution_count": 4,
     "metadata": {},
     "output_type": "execute_result"
    }
   ],
   "execution_count": 4
  },
  {
   "metadata": {
    "ExecuteTime": {
     "end_time": "2024-10-31T21:45:57.258875Z",
     "start_time": "2024-10-31T21:45:57.233073Z"
    }
   },
   "cell_type": "code",
   "source": [
    "# Assuming 'Weekly_Sales' as the target variable\n",
    "X = data.drop('Weekly_Sales_Log_Standardized', axis=1)  # Özellikler\n",
    "y = data['Weekly_Sales_Log_Standardized']  # Hedef değişken\n"
   ],
   "id": "d9f15e9848f8aef0",
   "outputs": [],
   "execution_count": 5
  },
  {
   "metadata": {
    "ExecuteTime": {
     "end_time": "2024-10-31T21:46:05.351951Z",
     "start_time": "2024-10-31T21:46:05.283033Z"
    }
   },
   "cell_type": "code",
   "source": "X_train, X_test, y_train, y_test = train_test_split(X, y, test_size=0.2, random_state=42)\n",
   "id": "65dc53c620bf41a3",
   "outputs": [],
   "execution_count": 6
  },
  {
   "metadata": {
    "ExecuteTime": {
     "end_time": "2024-10-31T22:00:02.595580Z",
     "start_time": "2024-10-31T21:46:13.857574Z"
    }
   },
   "cell_type": "code",
   "source": [
    "model = Sequential()\n",
    "model.add(LSTM(units=50, return_sequences=True, input_shape=(X_train.shape[1], 1)))\n",
    "model.add(Dropout(0.2))\n",
    "model.add(LSTM(units=50, return_sequences=False))\n",
    "model.add(Dropout(0.2))\n",
    "model.add(Dense(units=1))\n",
    "\n",
    "# Modeli derleyin\n",
    "model.compile(optimizer='adam', loss='mean_squared_error')\n",
    "\n",
    "# Modeli eğitin\n",
    "model.fit(X_train, y_train, epochs=20, batch_size=32, validation_data=(X_test, y_test))\n"
   ],
   "id": "c82674d380cddbc2",
   "outputs": [
    {
     "name": "stderr",
     "output_type": "stream",
     "text": [
      "C:\\Users\\egeme\\AppData\\Local\\Programs\\Python\\Python312\\Lib\\site-packages\\keras\\src\\layers\\rnn\\rnn.py:204: UserWarning: Do not pass an `input_shape`/`input_dim` argument to a layer. When using Sequential models, prefer using an `Input(shape)` object as the first layer in the model instead.\n",
      "  super().__init__(**kwargs)\n"
     ]
    },
    {
     "name": "stdout",
     "output_type": "stream",
     "text": [
      "Epoch 1/20\n",
      "\u001B[1m10540/10540\u001B[0m \u001B[32m━━━━━━━━━━━━━━━━━━━━\u001B[0m\u001B[37m\u001B[0m \u001B[1m45s\u001B[0m 4ms/step - loss: 0.9059 - val_loss: 0.7278\n",
      "Epoch 2/20\n",
      "\u001B[1m10540/10540\u001B[0m \u001B[32m━━━━━━━━━━━━━━━━━━━━\u001B[0m\u001B[37m\u001B[0m \u001B[1m42s\u001B[0m 4ms/step - loss: 0.7226 - val_loss: 0.6536\n",
      "Epoch 3/20\n",
      "\u001B[1m10540/10540\u001B[0m \u001B[32m━━━━━━━━━━━━━━━━━━━━\u001B[0m\u001B[37m\u001B[0m \u001B[1m39s\u001B[0m 4ms/step - loss: 0.6692 - val_loss: 0.6137\n",
      "Epoch 4/20\n",
      "\u001B[1m10540/10540\u001B[0m \u001B[32m━━━━━━━━━━━━━━━━━━━━\u001B[0m\u001B[37m\u001B[0m \u001B[1m42s\u001B[0m 4ms/step - loss: 0.6238 - val_loss: 0.5312\n",
      "Epoch 5/20\n",
      "\u001B[1m10540/10540\u001B[0m \u001B[32m━━━━━━━━━━━━━━━━━━━━\u001B[0m\u001B[37m\u001B[0m \u001B[1m41s\u001B[0m 4ms/step - loss: 0.5611 - val_loss: 0.4815\n",
      "Epoch 6/20\n",
      "\u001B[1m10540/10540\u001B[0m \u001B[32m━━━━━━━━━━━━━━━━━━━━\u001B[0m\u001B[37m\u001B[0m \u001B[1m42s\u001B[0m 4ms/step - loss: 0.5035 - val_loss: 0.4232\n",
      "Epoch 7/20\n",
      "\u001B[1m10540/10540\u001B[0m \u001B[32m━━━━━━━━━━━━━━━━━━━━\u001B[0m\u001B[37m\u001B[0m \u001B[1m42s\u001B[0m 4ms/step - loss: 0.4732 - val_loss: 0.4317\n",
      "Epoch 8/20\n",
      "\u001B[1m10540/10540\u001B[0m \u001B[32m━━━━━━━━━━━━━━━━━━━━\u001B[0m\u001B[37m\u001B[0m \u001B[1m41s\u001B[0m 4ms/step - loss: 0.4515 - val_loss: 0.4072\n",
      "Epoch 9/20\n",
      "\u001B[1m10540/10540\u001B[0m \u001B[32m━━━━━━━━━━━━━━━━━━━━\u001B[0m\u001B[37m\u001B[0m \u001B[1m44s\u001B[0m 4ms/step - loss: 0.4338 - val_loss: 0.3767\n",
      "Epoch 10/20\n",
      "\u001B[1m10540/10540\u001B[0m \u001B[32m━━━━━━━━━━━━━━━━━━━━\u001B[0m\u001B[37m\u001B[0m \u001B[1m39s\u001B[0m 4ms/step - loss: 0.4168 - val_loss: 0.3520\n",
      "Epoch 11/20\n",
      "\u001B[1m10540/10540\u001B[0m \u001B[32m━━━━━━━━━━━━━━━━━━━━\u001B[0m\u001B[37m\u001B[0m \u001B[1m41s\u001B[0m 4ms/step - loss: 0.4069 - val_loss: 0.3464\n",
      "Epoch 12/20\n",
      "\u001B[1m10540/10540\u001B[0m \u001B[32m━━━━━━━━━━━━━━━━━━━━\u001B[0m\u001B[37m\u001B[0m \u001B[1m42s\u001B[0m 4ms/step - loss: 0.3979 - val_loss: 0.3436\n",
      "Epoch 13/20\n",
      "\u001B[1m10540/10540\u001B[0m \u001B[32m━━━━━━━━━━━━━━━━━━━━\u001B[0m\u001B[37m\u001B[0m \u001B[1m42s\u001B[0m 4ms/step - loss: 0.3897 - val_loss: 0.3289\n",
      "Epoch 14/20\n",
      "\u001B[1m10540/10540\u001B[0m \u001B[32m━━━━━━━━━━━━━━━━━━━━\u001B[0m\u001B[37m\u001B[0m \u001B[1m42s\u001B[0m 4ms/step - loss: 0.3784 - val_loss: 0.3400\n",
      "Epoch 15/20\n",
      "\u001B[1m10540/10540\u001B[0m \u001B[32m━━━━━━━━━━━━━━━━━━━━\u001B[0m\u001B[37m\u001B[0m \u001B[1m39s\u001B[0m 4ms/step - loss: 0.3712 - val_loss: 0.3378\n",
      "Epoch 16/20\n",
      "\u001B[1m10540/10540\u001B[0m \u001B[32m━━━━━━━━━━━━━━━━━━━━\u001B[0m\u001B[37m\u001B[0m \u001B[1m43s\u001B[0m 4ms/step - loss: 0.3578 - val_loss: 0.3072\n",
      "Epoch 17/20\n",
      "\u001B[1m10540/10540\u001B[0m \u001B[32m━━━━━━━━━━━━━━━━━━━━\u001B[0m\u001B[37m\u001B[0m \u001B[1m40s\u001B[0m 4ms/step - loss: 0.3454 - val_loss: 0.3068\n",
      "Epoch 18/20\n",
      "\u001B[1m10540/10540\u001B[0m \u001B[32m━━━━━━━━━━━━━━━━━━━━\u001B[0m\u001B[37m\u001B[0m \u001B[1m47s\u001B[0m 4ms/step - loss: 0.3353 - val_loss: 0.2876\n",
      "Epoch 19/20\n",
      "\u001B[1m10540/10540\u001B[0m \u001B[32m━━━━━━━━━━━━━━━━━━━━\u001B[0m\u001B[37m\u001B[0m \u001B[1m38s\u001B[0m 4ms/step - loss: 0.3248 - val_loss: 0.3096\n",
      "Epoch 20/20\n",
      "\u001B[1m10540/10540\u001B[0m \u001B[32m━━━━━━━━━━━━━━━━━━━━\u001B[0m\u001B[37m\u001B[0m \u001B[1m38s\u001B[0m 4ms/step - loss: 0.3123 - val_loss: 0.2655\n"
     ]
    },
    {
     "data": {
      "text/plain": [
       "<keras.src.callbacks.history.History at 0x1e4fad98ef0>"
      ]
     },
     "execution_count": 7,
     "metadata": {},
     "output_type": "execute_result"
    }
   ],
   "execution_count": 7
  },
  {
   "metadata": {
    "ExecuteTime": {
     "end_time": "2024-10-31T22:00:28.265452Z",
     "start_time": "2024-10-31T22:00:23.739160Z"
    }
   },
   "cell_type": "code",
   "source": [
    "# Test verisiyle tahmin yapın\n",
    "y_pred = model.predict(X_test)\n",
    "\n",
    "# Performans metrikleri\n",
    "print(\"Mean Absolute Error:\", mean_absolute_error(y_test, y_pred))\n",
    "print(\"Mean Squared Error:\", mean_squared_error(y_test, y_pred))\n",
    "print(\"R-squared:\", r2_score(y_test, y_pred))\n"
   ],
   "id": "9d1706fd2678c56d",
   "outputs": [
    {
     "name": "stdout",
     "output_type": "stream",
     "text": [
      "\u001B[1m2635/2635\u001B[0m \u001B[32m━━━━━━━━━━━━━━━━━━━━\u001B[0m\u001B[37m\u001B[0m \u001B[1m4s\u001B[0m 1ms/step\n",
      "Mean Absolute Error: 0.3708898381320505\n",
      "Mean Squared Error: 0.26546446554020825\n",
      "R-squared: 0.73395909727637\n"
     ]
    }
   ],
   "execution_count": 8
  },
  {
   "metadata": {},
   "cell_type": "markdown",
   "source": [
    "# Model Development for Weekly Sales Forecasting\n",
    "\n",
    "## Step 1: Import Libraries\n",
    "In this step, we import all necessary libraries for data manipulation, model building, and evaluation.\n",
    "\n",
    "## Step 2: Load and Inspect the Dataset\n",
    "We load the optimized dataset that has been preprocessed in previous steps.\n",
    "\n",
    "## Step 3: Feature and Target Separation\n",
    "Separate the target variable (Weekly Sales) from the input features.\n",
    "\n",
    "## Step 4: Train-Test Split\n",
    "Split the data into training and testing sets to evaluate model performance later.\n",
    "\n",
    "## Step 5: Model Building and Training\n",
    "Build an LSTM model for time series forecasting and train it with the training data.\n",
    "\n",
    "## Step 6: Model Evaluation\n",
    "Evaluate the model’s performance on the test set using metrics like MAE, MSE, and R-squared.\n"
   ],
   "id": "fe06c579fb96100f"
  }
 ],
 "metadata": {
  "kernelspec": {
   "display_name": "Python 3",
   "language": "python",
   "name": "python3"
  },
  "language_info": {
   "codemirror_mode": {
    "name": "ipython",
    "version": 2
   },
   "file_extension": ".py",
   "mimetype": "text/x-python",
   "name": "python",
   "nbconvert_exporter": "python",
   "pygments_lexer": "ipython2",
   "version": "2.7.6"
  }
 },
 "nbformat": 4,
 "nbformat_minor": 5
}
